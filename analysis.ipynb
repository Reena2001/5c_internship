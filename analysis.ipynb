{
 "cells": [
  {
   "cell_type": "code",
   "execution_count": 1,
   "id": "df0805d6",
   "metadata": {},
   "outputs": [],
   "source": [
    "import pandas as pd"
   ]
  },
  {
   "cell_type": "code",
   "execution_count": 2,
   "id": "5d816f1f",
   "metadata": {},
   "outputs": [],
   "source": [
    "sales_data = pd.read_csv('sales_data_1.csv')"
   ]
  },
  {
   "cell_type": "code",
   "execution_count": 3,
   "id": "0aaf3ac7",
   "metadata": {},
   "outputs": [
    {
     "name": "stdout",
     "output_type": "stream",
     "text": [
      "1. Overall Gross Margin: 30.43%\n"
     ]
    }
   ],
   "source": [
    "overall_gross_margin = (sales_data['Selling price'].sum() - sales_data['Buying price'].sum())/(sales_data['Buying price'].sum())*100\n",
    "print(f\"1. Overall Gross Margin: {overall_gross_margin:.2f}%\")"
   ]
  },
  {
   "cell_type": "code",
   "execution_count": 4,
   "id": "3f78e60b",
   "metadata": {},
   "outputs": [
    {
     "name": "stdout",
     "output_type": "stream",
     "text": [
      "2. Most Profitable Vendor: Vendor4\n"
     ]
    }
   ],
   "source": [
    "sales_data['Profit'] = (sales_data['Selling price'] - sales_data['Buying price']) * sales_data['Quantity sold']\n",
    "most_profitable_vendor = sales_data.groupby('Firm bought from')['Profit'].sum().idxmax()\n",
    "print(f\"2. Most Profitable Vendor: {most_profitable_vendor}\")"
   ]
  },
  {
   "cell_type": "code",
   "execution_count": 5,
   "id": "9320bb21",
   "metadata": {},
   "outputs": [
    {
     "name": "stdout",
     "output_type": "stream",
     "text": [
      "3. Least Profitable Customer: Customer3\n"
     ]
    }
   ],
   "source": [
    "least_profitable_customer = sales_data.groupby('Customer')['Profit'].sum().idxmin()\n",
    "print(f\"3. Least Profitable Customer: {least_profitable_customer}\")"
   ]
  },
  {
   "cell_type": "code",
   "execution_count": 6,
   "id": "17cd2cbb",
   "metadata": {},
   "outputs": [
    {
     "name": "stdout",
     "output_type": "stream",
     "text": [
      "4. Most Profitable Day of the Week: Monday\n"
     ]
    }
   ],
   "source": [
    "sales_data['Date'] = pd.to_datetime(sales_data['Date'])\n",
    "sales_data['Day_of_Week'] = sales_data['Date'].dt.day_name()\n",
    "most_profitable_day = sales_data.groupby('Day_of_Week')['Profit'].sum().idxmax()\n",
    "print(f\"4. Most Profitable Day of the Week: {most_profitable_day}\")"
   ]
  },
  {
   "cell_type": "code",
   "execution_count": 7,
   "id": "343cb46e",
   "metadata": {},
   "outputs": [
    {
     "name": "stdout",
     "output_type": "stream",
     "text": [
      "5. Least Profitable Day of the Week: Sunday\n"
     ]
    }
   ],
   "source": [
    "least_profitable_day = sales_data.groupby('Day_of_Week')['Profit'].sum().idxmin()\n",
    "print(f\"5. Least Profitable Day of the Week: {least_profitable_day}\")"
   ]
  },
  {
   "cell_type": "code",
   "execution_count": 8,
   "id": "2f1069a8",
   "metadata": {},
   "outputs": [],
   "source": [
    "sales_data_2 = pd.read_csv('sales_data_2.csv')"
   ]
  },
  {
   "cell_type": "code",
   "execution_count": 9,
   "id": "0731fb9c",
   "metadata": {},
   "outputs": [
    {
     "name": "stdout",
     "output_type": "stream",
     "text": [
      "6.3-day average of the daily gross profit: 0            NaN\n",
      "1            NaN\n",
      "2    -326.200000\n",
      "3    -451.893333\n",
      "4    -236.143333\n",
      "         ...    \n",
      "65   -330.973333\n",
      "66   -270.313333\n",
      "67   -609.626667\n",
      "68   -681.706667\n",
      "69   -838.346667\n",
      "Name: 3-Day Average Gross Profit, Length: 70, dtype: float64 \n"
     ]
    }
   ],
   "source": [
    "sales_data_2['Date'] = pd.to_datetime(sales_data_2['Date'])\n",
    "sales_data_2['Gross Profit'] = (sales_data_2['Selling price'] - sales_data_2['Buying price']) * (sales_data_2['Quantity sold']- sales_data_2['Quantity bought'])\n",
    "sales_data_2['3-Day Average Gross Profit'] = sales_data_2['Gross Profit'].rolling(window=3).mean()\n",
    "print(f\"6.3-day average of the daily gross profit: {sales_data_2['3-Day Average Gross Profit']} \")"
   ]
  },
  {
   "cell_type": "code",
   "execution_count": 10,
   "id": "8a32a906",
   "metadata": {},
   "outputs": [
    {
     "data": {
      "image/png": "[encoded data removed]",
      "text/plain": [
       "<Figure size 864x432 with 1 Axes>"
      ]
     },
     "metadata": {
      "needs_background": "light"
     },
     "output_type": "display_data"
    }
   ],
   "source": [
    "import matplotlib.pyplot as plt\n",
    "plt.figure(figsize=(12, 6))\n",
    "plt.plot(sales_data_2['Date'], sales_data_2['3-Day Average Gross Profit'])\n",
    "plt.title('7. 3-Day Average Gross Profit Trend')\n",
    "plt.xlabel('Date')\n",
    "plt.ylabel('3-Day Average Gross Profit')\n",
    "plt.grid(True)\n",
    "plt.show()"
   ]
  },
  {
   "cell_type": "code",
   "execution_count": 11,
   "id": "869457a1",
   "metadata": {},
   "outputs": [
    {
     "name": "stdout",
     "output_type": "stream",
     "text": [
      "8.1 Underperforming Vendors:\n",
      "Firm bought from\n",
      "Vendor1    -2588.65\n",
      "Vendor10   -2272.27\n",
      "Vendor2    -2689.74\n",
      "Vendor3    -2285.98\n",
      "Vendor4    -2812.50\n",
      "Vendor5    -3383.36\n",
      "Vendor6     -502.61\n",
      "Vendor7    -7000.95\n",
      "Vendor8     -946.55\n",
      "Vendor9    -2665.63\n",
      "Name: Gross Profit, dtype: float64\n"
     ]
    }
   ],
   "source": [
    "vendor_profit = sales_data_2.groupby('Firm bought from')['Gross Profit'].sum()\n",
    "underperforming_vendors = vendor_profit[vendor_profit <= 0]\n",
    "print(\"8.1 Underperforming Vendors:\")\n",
    "print(underperforming_vendors)"
   ]
  },
  {
   "cell_type": "code",
   "execution_count": 12,
   "id": "af9dcb03",
   "metadata": {},
   "outputs": [
    {
     "name": "stdout",
     "output_type": "stream",
     "text": [
      "8.2 Underperforming Customers:\n",
      "Customer\n",
      "Customer1    -2947.65\n",
      "Customer10   -1495.82\n",
      "Customer2    -4399.35\n",
      "Customer3    -2084.66\n",
      "Customer4    -1839.79\n",
      "Customer5    -2354.35\n",
      "Customer6    -2651.37\n",
      "Customer7    -4853.18\n",
      "Customer8    -3536.51\n",
      "Customer9     -985.56\n",
      "Name: Gross Profit, dtype: float64\n"
     ]
    }
   ],
   "source": [
    "customer_profit = sales_data_2.groupby('Customer')['Gross Profit'].sum()\n",
    "underperforming_customers = customer_profit[customer_profit <= 0]\n",
    "print(\"8.2 Underperforming Customers:\")\n",
    "print(underperforming_customers)"
   ]
  },
  {
   "cell_type": "code",
   "execution_count": 13,
   "id": "abee6310",
   "metadata": {},
   "outputs": [
    {
     "name": "stdout",
     "output_type": "stream",
     "text": [
      "9. Percentiles for Buying Price:\n",
      "0.25    29.90\n",
      "0.50    60.76\n",
      "0.75    78.32\n",
      "Name: Buying price, dtype: float64\n",
      "Percentiles for Selling Price:\n",
      "0.25     38.9750\n",
      "0.50     78.9900\n",
      "0.75    103.3975\n",
      "Name: Selling price, dtype: float64\n"
     ]
    }
   ],
   "source": [
    "buying_price_percentiles = sales_data_2['Buying price'].quantile([0.25, 0.5, 0.75])\n",
    "selling_price_percentiles = sales_data_2['Selling price'].quantile([0.25, 0.5, 0.75])\n",
    "print(\"9. Percentiles for Buying Price:\")\n",
    "print(buying_price_percentiles)\n",
    "print(\"Percentiles for Selling Price:\")\n",
    "print(selling_price_percentiles)"
   ]
  },
  {
   "cell_type": "code",
   "execution_count": 14,
   "id": "d7390f21",
   "metadata": {},
   "outputs": [
    {
     "name": "stdout",
     "output_type": "stream",
     "text": [
      "10. Prices Below 25th Percentile (Buying Price):\n",
      "False    52\n",
      "True     18\n",
      "Name: Buying price, dtype: int64\n",
      "Prices Above 75th Percentile (Buying Price):\n",
      "False    52\n",
      "True     18\n",
      "Name: Buying price, dtype: int64\n",
      "Prices Below 25th Percentile (Selling Price):\n",
      "False    52\n",
      "True     18\n",
      "Name: Selling price, dtype: int64\n",
      "Prices Above 75th Percentile (Selling Price):\n",
      "False    52\n",
      "True     18\n",
      "Name: Selling price, dtype: int64\n"
     ]
    }
   ],
   "source": [
    "below_25th_percentile_buying = (sales_data_2['Buying price'] < buying_price_percentiles[0.25])\n",
    "above_75th_percentile_buying = (sales_data_2['Buying price'] > buying_price_percentiles[0.75])\n",
    "below_25th_percentile_selling = (sales_data_2['Selling price'] < selling_price_percentiles[0.25])\n",
    "above_75th_percentile_selling = (sales_data_2['Selling price'] > selling_price_percentiles[0.75])\n",
    "\n",
    "print(\"10. Prices Below 25th Percentile (Buying Price):\")\n",
    "print(below_25th_percentile_buying.value_counts())\n",
    "print(\"Prices Above 75th Percentile (Buying Price):\")\n",
    "print(above_75th_percentile_buying.value_counts())\n",
    "print(\"Prices Below 25th Percentile (Selling Price):\")\n",
    "print(below_25th_percentile_selling.value_counts())\n",
    "print(\"Prices Above 75th Percentile (Selling Price):\")\n",
    "print(above_75th_percentile_selling.value_counts())"
   ]
  },
  {
   "cell_type": "code",
   "execution_count": 15,
   "id": "3b6ac5fa",
   "metadata": {},
   "outputs": [],
   "source": [
    "vendor_4_data = sales_data[sales_data['Firm bought from'] == 'Vendor4']\n",
    "\n",
    "# Extract the buying prices for Vendor 4\n",
    "vendor_4_buying_prices = vendor_4_data['Buying price']\n",
    "vendor_4_selling_prices = vendor_4_data['Selling price']\n",
    "vendor_4_quantity_sold = vendor_4_data['Quantity sold']\n",
    "vendor_4_gross_margin = (vendor_4_selling_prices - vendor_4_buying_prices) * vendor_4_quantity_sold"
   ]
  },
  {
   "cell_type": "code",
   "execution_count": 16,
   "id": "ea0d3131",
   "metadata": {},
   "outputs": [
    {
     "name": "stdout",
     "output_type": "stream",
     "text": [
      "11. Impact on Gross Margin with Vendor 4:  1      146.71\n",
      "29     389.50\n",
      "34    3013.00\n",
      "49      52.40\n",
      "54    2688.40\n",
      "59      87.23\n",
      "62      32.35\n",
      "63      86.38\n",
      "65     407.34\n",
      "dtype: float64\n"
     ]
    }
   ],
   "source": [
    "current_gross_margin = (sales_data['Selling price'] - sales_data['Buying price']) * sales_data['Quantity sold']\n",
    "current_total_gross_margin = current_gross_margin.sum()\n",
    "new_total_gross_margin = current_total_gross_margin + vendor_4_gross_margin\n",
    "impact_on_gross_margin = new_total_gross_margin - current_total_gross_margin\n",
    "\n",
    "print(\"11. Impact on Gross Margin with Vendor 4: \", impact_on_gross_margin)"
   ]
  },
  {
   "cell_type": "code",
   "execution_count": 17,
   "id": "818abcb9",
   "metadata": {},
   "outputs": [
    {
     "name": "stdout",
     "output_type": "stream",
     "text": [
      " 12. Vendor with Highest Average Margin:  Vendor3\n",
      "Theoretical Max Margin:  1061.7783333333334\n"
     ]
    }
   ],
   "source": [
    "vendor_avg_profit_margin = (sales_data['Selling price'] - sales_data['Buying price']) * sales_data['Quantity sold']\n",
    "vendor_avg_profit_margin = vendor_avg_profit_margin.groupby(sales_data['Firm bought from']).mean()\n",
    "\n",
    "# Find the vendor with the highest average profit margin\n",
    "highest_margin_vendor = vendor_avg_profit_margin.idxmax()\n",
    "\n",
    "# Calculate the theoretical max margin if the firm sources only from the highest-margin vendor\n",
    "theoretical_max_margin = vendor_avg_profit_margin.max()\n",
    "\n",
    "print(\" 12. Vendor with Highest Average Margin: \", highest_margin_vendor)\n",
    "print(\"Theoretical Max Margin: \", theoretical_max_margin)"
   ]
  },
  {
   "cell_type": "code",
   "execution_count": 18,
   "id": "be92e2f9",
   "metadata": {},
   "outputs": [
    {
     "name": "stdout",
     "output_type": "stream",
     "text": [
      "13. Price Elasticity:  0.023832881149938978\n"
     ]
    }
   ],
   "source": [
    "import statsmodels.api as sm\n",
    "\n",
    "# Perform a regression analysis to estimate price elasticity\n",
    "X = sales_data['Selling price']\n",
    "Y = sales_data['Quantity sold']\n",
    "\n",
    "# Add a constant term to the model\n",
    "X = sm.add_constant(X)\n",
    "\n",
    "# Fit a linear regression model\n",
    "model = sm.OLS(Y, X).fit()\n",
    "\n",
    "# Get the coefficient for price (sensitivity to price changes)\n",
    "price_elasticity = model.params['Selling price']\n",
    "\n",
    "print(\"13. Price Elasticity: \", price_elasticity)"
   ]
  },
  {
   "cell_type": "code",
   "execution_count": null,
   "id": "6579c33f",
   "metadata": {},
   "outputs": [],
   "source": []
  }
 ],
 "metadata": {
  "kernelspec": {
   "display_name": "Python 3 (ipykernel)",
   "language": "python",
   "name": "python3"
  },
  "language_info": {
   "codemirror_mode": {
    "name": "ipython",
    "version": 3
   },
   "file_extension": ".py",
   "mimetype": "text/x-python",
   "name": "python",
   "nbconvert_exporter": "python",
   "pygments_lexer": "ipython3",
   "version": "3.9.12"
  }
 },
 "nbformat": 4,
 "nbformat_minor": 5
}
